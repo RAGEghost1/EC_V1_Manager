{
 "cells": [
  {
   "cell_type": "code",
   "execution_count": 1,
   "id": "5c192e95-8a0e-4fbd-bb97-45a30908359d",
   "metadata": {},
   "outputs": [
    {
     "name": "stdout",
     "output_type": "stream",
     "text": [
      "✅ EC_V1_Manager environment ready!\n"
     ]
    }
   ],
   "source": [
    "print(\"✅ EC_V1_Manager environment ready!\")\n"
   ]
  },
  {
   "cell_type": "code",
   "execution_count": 2,
   "id": "de045df4-40b7-4a76-81b6-f8093807589c",
   "metadata": {},
   "outputs": [
    {
     "name": "stdout",
     "output_type": "stream",
     "text": [
      "✅ Imports loaded\n",
      "🔧 Project EC_V1_Manager initialized on 2025-09-10 18:29:21.337263\n",
      "🚀 System check complete. Ready for development!\n"
     ]
    }
   ],
   "source": [
    "# --- Imports ---\n",
    "import os\n",
    "import sys\n",
    "import datetime\n",
    "\n",
    "print(\"✅ Imports loaded\")\n",
    "\n",
    "# --- Config ---\n",
    "project_name = \"EC_V1_Manager\"\n",
    "created_on = datetime.datetime.now()\n",
    "print(f\"🔧 Project {project_name} initialized on {created_on}\")\n",
    "\n",
    "# --- Test Run ---\n",
    "print(\"🚀 System check complete. Ready for development!\")\n"
   ]
  },
  {
   "cell_type": "code",
   "execution_count": null,
   "id": "11da44cc-1813-4831-8d30-5df997129dca",
   "metadata": {},
   "outputs": [],
   "source": []
  }
 ],
 "metadata": {
  "kernelspec": {
   "display_name": "Python 3 (ipykernel)",
   "language": "python",
   "name": "python3"
  },
  "language_info": {
   "codemirror_mode": {
    "name": "ipython",
    "version": 3
   },
   "file_extension": ".py",
   "mimetype": "text/x-python",
   "name": "python",
   "nbconvert_exporter": "python",
   "pygments_lexer": "ipython3",
   "version": "3.11.9"
  }
 },
 "nbformat": 4,
 "nbformat_minor": 5
}
